{
  "cells": [
    {
      "cell_type": "markdown",
      "metadata": {
        "id": "view-in-github",
        "colab_type": "text"
      },
      "source": [
        "<a href=\"https://colab.research.google.com/github/hsinlun99/HPIT-group-project-colab/blob/main/playground.ipynb\" target=\"_parent\"><img src=\"https://colab.research.google.com/assets/colab-badge.svg\" alt=\"Open In Colab\"/></a>"
      ]
    },
    {
      "cell_type": "markdown",
      "source": [
        "## 1. Initialization\n",
        "\n",
        "\n",
        "## Everytime you open the colab file, you need to run all the cells of this section first!\n"
      ],
      "metadata": {
        "id": "o5_krqoJSorM"
      }
    },
    {
      "cell_type": "code",
      "source": [
        "import gspread\n",
        "print(gspread.__version__)\n",
        "\n",
        "from google.colab import auth\n",
        "auth.authenticate_user()\n",
        "\n",
        "import gspread\n",
        "from google.auth import default\n",
        "creds, _ = default()\n",
        "\n",
        "gc = gspread.authorize(creds)"
      ],
      "metadata": {
        "colab": {
          "base_uri": "https://localhost:8080/"
        },
        "id": "FHVqxx39Wo3j",
        "outputId": "c9f2c86a-b55b-4d72-9f23-a0e5cf3a4668"
      },
      "execution_count": 1,
      "outputs": [
        {
          "output_type": "stream",
          "name": "stdout",
          "text": [
            "6.0.2\n"
          ]
        }
      ]
    },
    {
      "cell_type": "code",
      "source": [
        "import pandas as pd\n",
        "import matplotlib.pyplot as plt\n",
        "from textwrap import fill\n",
        "\n",
        "workbook = gc.open_by_key('1aeHyYsF65RE08W-M46mZz1CdUxEIxR4J9imKsWeDBew')\n",
        "\n",
        "sheet_a = workbook.worksheet('Group A(Real)')\n",
        "sheet_b = workbook.worksheet('Group B(AI)')\n",
        "\n",
        "values = sheet_a.get_all_values()\n",
        "df_a = pd.DataFrame(values[1:], columns=values[0])\n",
        "\n",
        "values = sheet_b.get_all_values()\n",
        "df_b = pd.DataFrame(values[1:], columns=values[0])"
      ],
      "metadata": {
        "id": "QpGsA9kaZFYt"
      },
      "execution_count": 2,
      "outputs": []
    },
    {
      "cell_type": "code",
      "source": [
        "# Function for question pairs\n",
        "def generate_boxplot(df_a, df_b, column_name, title, max_width=50):\n",
        "    # Extract and rename columns\n",
        "    q_a = pd.Series(df_a[column_name], name=\"A (Real faces)\")\n",
        "    q_b = pd.Series(df_b[column_name], name=\"B (AIG faces)\")\n",
        "\n",
        "    # Concatenate and convert to float\n",
        "    df_q = pd.concat([q_a, q_b], axis=1).astype(float)\n",
        "\n",
        "    #5B93C4 original\n",
        "    #99BBFF\n",
        "    box_blue = \"#99BBFF\"\n",
        "\n",
        "    # Create boxplot\n",
        "    ax = df_q.boxplot(\n",
        "        medianprops=dict(color=\"red\", linewidth=2),\n",
        "        patch_artist=True,\n",
        "        boxprops=dict(facecolor=box_blue, color=box_blue),\n",
        "        whiskerprops=dict(color=box_blue, linewidth=2)\n",
        "    )\n",
        "\n",
        "    wrapped_title = fill(title+': '+column_name, width=max_width)\n",
        "    ax.set_title(wrapped_title, fontsize=14) # pad=5 for question 7: Based on...\n",
        "    ax.set_yticks([i * 0.5 for i in range(2, 11)])\n",
        "    plt.show()\n"
      ],
      "metadata": {
        "id": "vySvYWQ8rrqs"
      },
      "execution_count": 3,
      "outputs": []
    },
    {
      "cell_type": "code",
      "source": [
        "def generate_all_boxplot(df_a, df_b, column_names, max_width=50):\n",
        "    # Validate input\n",
        "    if not isinstance(column_names, list):\n",
        "        raise ValueError(\"column_names must be a list of column names\")\n",
        "\n",
        "    # Set box color\n",
        "    box_blue = \"#99BBFF\"\n",
        "\n",
        "    # Create subplots\n",
        "    num_columns = len(column_names)\n",
        "    fig, axes = plt.subplots(1, num_columns, figsize=(num_columns * 5, 6), sharey=True)\n",
        "\n",
        "    # Handle single axis case\n",
        "    if num_columns == 1:\n",
        "        axes = [axes]\n",
        "\n",
        "    for i, column_name in enumerate(column_names):\n",
        "        # Extract and rename columns\n",
        "        q_a = pd.Series(df_a[column_name], name=\"A (Real faces)\")\n",
        "        q_b = pd.Series(df_b[column_name], name=\"B (AIG faces)\")\n",
        "\n",
        "        # Concatenate and convert to float\n",
        "        df_q = pd.concat([q_a, q_b], axis=1).astype(float)\n",
        "\n",
        "        # Create boxplot\n",
        "        ax = df_q.boxplot(\n",
        "            medianprops=dict(color=\"red\", linewidth=2),\n",
        "            patch_artist=True,\n",
        "            boxprops=dict(facecolor=box_blue, color=box_blue),\n",
        "            whiskerprops=dict(color=box_blue, linewidth=2),\n",
        "            ax=axes[i]\n",
        "        )\n",
        "\n",
        "        # Set title for each subplot\n",
        "        wrapped_title = fill(f\"{title}: {column_name}\", width=max_width)\n",
        "        axes[i].set_title(wrapped_title, fontsize=14)\n",
        "\n",
        "    # Set shared y-axis ticks\n",
        "    axes[0].set_yticks([i * 0.5 for i in range(2, 11)])\n",
        "\n",
        "    # Adjust layout and show plot\n",
        "    plt.tight_layout()\n",
        "    plt.show()"
      ],
      "metadata": {
        "id": "fWvo2RgDzJfg"
      },
      "execution_count": 7,
      "outputs": []
    },
    {
      "cell_type": "code",
      "source": [
        "def generate_a_boxplot(df_a, df_b, column_names, max_width=50):\n",
        "    import pandas as pd\n",
        "    import matplotlib.pyplot as plt\n",
        "    from textwrap import fill\n",
        "\n",
        "    # Validate input\n",
        "    if not isinstance(column_names, list):\n",
        "        raise ValueError(\"column_names must be a list of column names\")\n",
        "\n",
        "    # Prepare data for plotting\n",
        "    all_data = []\n",
        "    all_labels = []\n",
        "\n",
        "    for column_name in column_names:\n",
        "        # Check if columns exist\n",
        "        if column_name not in df_a or column_name not in df_b:\n",
        "            raise ValueError(f\"Column '{column_name}' not found in both DataFrames\")\n",
        "\n",
        "        # Coerce to numeric, dropping non-numeric data\n",
        "        df_a[column_name] = pd.to_numeric(df_a[column_name], errors='coerce')\n",
        "        df_b[column_name] = pd.to_numeric(df_b[column_name], errors='coerce')\n",
        "\n",
        "        # Extract data from both DataFrames and add labels\n",
        "        q_a = pd.DataFrame({\n",
        "            \"Value\": df_a[column_name].dropna(),\n",
        "            \"Label\": f\"{column_name} A\"\n",
        "        })\n",
        "        q_b = pd.DataFrame({\n",
        "            \"Value\": df_b[column_name].dropna(),\n",
        "            \"Label\": f\"{column_name} B\"\n",
        "        })\n",
        "\n",
        "        # Append data and labels\n",
        "        all_data.append(q_a)\n",
        "        all_data.append(q_b)\n",
        "\n",
        "    # Concatenate all data into a single DataFrame\n",
        "    concatenated_data = pd.concat(all_data, axis=0)\n",
        "\n",
        "    # Set box color\n",
        "    box_blue = \"#99BBFF\"\n",
        "\n",
        "    # Create boxplot\n",
        "    fig, ax = plt.subplots(figsize=(max(10, len(column_names) * 2), 6))\n",
        "    ax.boxplot(\n",
        "        [concatenated_data.loc[concatenated_data[\"Label\"] == label, \"Value\"] for label in concatenated_data[\"Label\"].unique()],\n",
        "        patch_artist=True,\n",
        "        labels=concatenated_data[\"Label\"].unique(),\n",
        "        medianprops=dict(color=\"red\", linewidth=2),\n",
        "        boxprops=dict(facecolor=box_blue, color=box_blue),\n",
        "        whiskerprops=dict(color=box_blue, linewidth=2)\n",
        "    )\n",
        "\n",
        "    # Set title and adjust layout\n",
        "    wrapped_title = fill(\"Comparison of Quantitative Questions\", width=max_width)\n",
        "    ax.set_title(wrapped_title, fontsize=14)\n",
        "    plt.xticks(rotation=90)\n",
        "    plt.tight_layout()\n",
        "    plt.show()"
      ],
      "metadata": {
        "id": "9H2eOM0E0z6k"
      },
      "execution_count": 17,
      "outputs": []
    },
    {
      "cell_type": "code",
      "source": [
        "def generate_b_boxplot(df_a, df_b, column_names, titles, max_width=50):\n",
        "  # Validate input\n",
        "    if not isinstance(column_names, list) or not isinstance(titles, list):\n",
        "        raise ValueError(\"column_names and titles must be lists\")\n",
        "    if len(column_names) != len(titles):\n",
        "        raise ValueError(\"column_names and titles must have the same length\")\n",
        "\n",
        "    # Prepare data for plotting\n",
        "    all_data = []\n",
        "    group_positions = []  # For positioning the boxplots\n",
        "    current_position = 1  # Start position for the first boxplot\n",
        "\n",
        "    for column_name in column_names:\n",
        "        # Check if columns exist\n",
        "        if column_name not in df_a or column_name not in df_b:\n",
        "            raise ValueError(f\"Column '{column_name}' not found in both DataFrames\")\n",
        "\n",
        "        # Coerce to numeric, dropping non-numeric data\n",
        "        df_a[column_name] = pd.to_numeric(df_a[column_name], errors='coerce')\n",
        "        df_b[column_name] = pd.to_numeric(df_b[column_name], errors='coerce')\n",
        "\n",
        "        # Extract data and positions for boxplots\n",
        "        all_data.append(df_a[column_name].dropna())\n",
        "        group_positions.append(current_position)  # Position for A\n",
        "        current_position += 0.5  # Slightly offset B\n",
        "\n",
        "        all_data.append(df_b[column_name].dropna())\n",
        "        group_positions.append(current_position)  # Position for B\n",
        "        current_position += 1  # Move to next group\n",
        "\n",
        "    # Create boxplot\n",
        "    fig, ax = plt.subplots(figsize=(max(10, len(column_names) * 2), 6))\n",
        "    colors = ['#99BBFF', '#FFE153'] * len(column_names)  # Alternate colors for A and B  #FF9999 red\n",
        "\n",
        "\n",
        "    # Plot boxplots\n",
        "    box = ax.boxplot(\n",
        "        all_data,\n",
        "        positions=group_positions,\n",
        "        patch_artist=True,\n",
        "        widths=0.4,\n",
        "        medianprops=dict(color=\"red\", linewidth=2),\n",
        "        whiskerprops=dict(color=\"gray\", linewidth=1.5)\n",
        "    )\n",
        "\n",
        "    # Set colors for each box\n",
        "    for patch, color in zip(box['boxes'], colors):\n",
        "        patch.set_facecolor(color)\n",
        "\n",
        "    # Set x-axis labels using titles\n",
        "    ax.set_xticks([(group_positions[i] + group_positions[i + 1]) / 2 for i in range(0, len(group_positions), 2)])\n",
        "    ax.set_xticklabels(titles)\n",
        "\n",
        "    # Enable vertical grid lines\n",
        "    ax.yaxis.grid(True, linestyle='--', which='major', color='gray', alpha=0.7)\n",
        "\n",
        "    # Set title and layout\n",
        "    wrapped_title = fill(\"Comparison of Quantitative Questions\", width=max_width)\n",
        "    ax.set_title(wrapped_title, fontsize=14)\n",
        "    plt.tight_layout()\n",
        "    plt.show()"
      ],
      "metadata": {
        "id": "B6VjTiIZ3B_U"
      },
      "execution_count": 30,
      "outputs": []
    },
    {
      "cell_type": "code",
      "source": [
        "quan_questions = [\"The content on the website conveys a healthy and active lifestyle\",\n",
        "                  \"The content on the website inspires me to pursue a healthier lifestyle\",\n",
        "                  \"The content on the website showcases inclusivity for different age groups\",\n",
        "                  \"The content on the website showcases inclusivity for different cultural backgrounds\",\n",
        "                  \"The content on the website showcases inclusivity for different body types\",\n",
        "                  \"The content on the website portrays people that can be perceived as relatable\",\n",
        "                  \"Based on the content of the website, I get the feeling that the gym has a sense of community among gym-goers\",\n",
        "                  \"The content on the website conveys a feeling of a supportive atmosphere\",\n",
        "                  \"The content on the website promotes opportunities for connection with others in the gym\"]\n",
        "\n",
        "titles = title = [\"Q1\", \"Q2\", \"Q4\", \"Q5\", \"Q6\", \"Q7\", \"Q9\", \"Q10\", \"Q11\"]\n",
        "\n",
        "generate_b_boxplot(df_a, df_b, quan_questions, titles)"
      ],
      "metadata": {
        "colab": {
          "base_uri": "https://localhost:8080/",
          "height": 509
        },
        "id": "a1sJ6Od8zxbe",
        "outputId": "d1e836a4-c6db-45e5-a660-ba4e17358a40"
      },
      "execution_count": 31,
      "outputs": [
        {
          "output_type": "display_data",
          "data": {
            "text/plain": [
              "<Figure size 1800x600 with 1 Axes>"
            ],
            "image/png": "[encoded data removed]"
          },
          "metadata": {}
        }
      ]
    },
    {
      "cell_type": "code",
      "source": [
        "print(\"Pandas version:\", pd.__version__)\n",
        "print(\"Matplotlib version:\", plt.matplotlib.__version__)"
      ],
      "metadata": {
        "colab": {
          "base_uri": "https://localhost:8080/"
        },
        "id": "N6DSlpiuFvpO",
        "outputId": "be06837a-5fcb-404e-d02a-6b4a556de313"
      },
      "execution_count": 5,
      "outputs": [
        {
          "output_type": "stream",
          "name": "stdout",
          "text": [
            "Pandas version: 2.2.2\n",
            "Matplotlib version: 3.8.0\n"
          ]
        }
      ]
    },
    {
      "cell_type": "markdown",
      "source": [
        "## 2.1 Question boxplots generator\n",
        "\n",
        "Change the 3rd and 4th parameters (as below)\n",
        "\n",
        "`generate_boxplot(df_a, df_b, \"put the question here\", \"put the question number here\")`\n",
        "\n",
        "Here you need to click into this section to see and modify the pameraters."
      ],
      "metadata": {
        "id": "aV-jFnDXnLbC"
      }
    },
    {
      "cell_type": "code",
      "source": [
        "# Wellness Q1, Q2\n",
        "# The content on the website conveys a healthy and active lifestyle\n",
        "# The content on the website inspires me to pursue a healthier lifestyle\n",
        "# Inclusivity Q4, Q5, Q6, Q7\n",
        "# The content on the website showcases inclusivity for different age groups\n",
        "# The content on the website showcases inclusivity for different cultural backgrounds\n",
        "# The content on the website showcases inclusivity for different body types\n",
        "# The content on the website portrays people that can be perceived as relatable\n",
        "# Socialization Q9, Q10, Q11\n",
        "# Based on the content of the website, I get the feeling that the gym has a sense of community among gym-goers\n",
        "# The content on the website conveys a feeling of a supportive atmosphere\n",
        "# The content on the website promotes opportunities for connection with others in the gym\n",
        "\n",
        "\n",
        "\n",
        "# Change the 3rd and 4th parameters as the instruction below\n",
        "# generate_boxplot(df_a, df_b, \"put the question here\", \"put the question number here\")\n",
        "generate_boxplot(df_a, df_b, \"The content on the website promotes opportunities for connection with others in the gym\", \"Q11\")"
      ],
      "metadata": {
        "colab": {
          "base_uri": "https://localhost:8080/",
          "height": 497
        },
        "id": "Iy2HihOsopDj",
        "outputId": "013aeb98-def4-49e3-e5da-65065dbf6726"
      },
      "execution_count": null,
      "outputs": [
        {
          "output_type": "display_data",
          "data": {
            "text/plain": [
              "<Figure size 640x480 with 1 Axes>"
            ],
            "image/png": "[encoded data removed]"
          },
          "metadata": {}
        }
      ]
    },
    {
      "cell_type": "markdown",
      "source": [
        "## 2.2 Mann-Whitney U test"
      ],
      "metadata": {
        "id": "mBWrr32Rkx37"
      }
    },
    {
      "cell_type": "code",
      "source": [
        "!pip install --upgrade gensim\n",
        "!pip install scipy==1.14.1\n",
        "\n",
        "import scipy\n",
        "from scipy.stats import mannwhitneyu"
      ],
      "metadata": {
        "colab": {
          "base_uri": "https://localhost:8080/"
        },
        "id": "9EfG7sUGnh1i",
        "outputId": "73ea6fad-f773-4944-808f-15858d6c21aa"
      },
      "execution_count": null,
      "outputs": [
        {
          "output_type": "stream",
          "name": "stdout",
          "text": [
            "Requirement already satisfied: gensim in /usr/local/lib/python3.10/dist-packages (4.3.3)\n",
            "Requirement already satisfied: numpy<2.0,>=1.18.5 in /usr/local/lib/python3.10/dist-packages (from gensim) (1.26.4)\n",
            "Requirement already satisfied: scipy<1.14.0,>=1.7.0 in /usr/local/lib/python3.10/dist-packages (from gensim) (1.13.1)\n",
            "Requirement already satisfied: smart-open>=1.8.1 in /usr/local/lib/python3.10/dist-packages (from gensim) (7.1.0)\n",
            "Requirement already satisfied: wrapt in /usr/local/lib/python3.10/dist-packages (from smart-open>=1.8.1->gensim) (1.17.0)\n",
            "Collecting scipy==1.14.1\n",
            "  Downloading scipy-1.14.1-cp310-cp310-manylinux_2_17_x86_64.manylinux2014_x86_64.whl.metadata (60 kB)\n",
            "\u001b[2K     \u001b[90m━━━━━━━━━━━━━━━━━━━━━━━━━━━━━━━━━━━━━━━━\u001b[0m \u001b[32m60.8/60.8 kB\u001b[0m \u001b[31m2.8 MB/s\u001b[0m eta \u001b[36m0:00:00\u001b[0m\n",
            "\u001b[?25hRequirement already satisfied: numpy<2.3,>=1.23.5 in /usr/local/lib/python3.10/dist-packages (from scipy==1.14.1) (1.26.4)\n",
            "Downloading scipy-1.14.1-cp310-cp310-manylinux_2_17_x86_64.manylinux2014_x86_64.whl (41.2 MB)\n",
            "\u001b[2K   \u001b[90m━━━━━━━━━━━━━━━━━━━━━━━━━━━━━━━━━━━━━━━━\u001b[0m \u001b[32m41.2/41.2 MB\u001b[0m \u001b[31m16.7 MB/s\u001b[0m eta \u001b[36m0:00:00\u001b[0m\n",
            "\u001b[?25hInstalling collected packages: scipy\n",
            "  Attempting uninstall: scipy\n",
            "    Found existing installation: scipy 1.13.1\n",
            "    Uninstalling scipy-1.13.1:\n",
            "      Successfully uninstalled scipy-1.13.1\n",
            "\u001b[31mERROR: pip's dependency resolver does not currently take into account all the packages that are installed. This behaviour is the source of the following dependency conflicts.\n",
            "gensim 4.3.3 requires scipy<1.14.0,>=1.7.0, but you have scipy 1.14.1 which is incompatible.\u001b[0m\u001b[31m\n",
            "\u001b[0mSuccessfully installed scipy-1.14.1\n"
          ]
        }
      ]
    },
    {
      "cell_type": "code",
      "source": [
        "print(f\"SciPy version: {scipy.__version__}\")"
      ],
      "metadata": {
        "colab": {
          "base_uri": "https://localhost:8080/"
        },
        "id": "TpbX0vVAo65u",
        "outputId": "7bceb56f-2c6f-4c16-fd2f-e216be0ab0ee"
      },
      "execution_count": null,
      "outputs": [
        {
          "output_type": "stream",
          "name": "stdout",
          "text": [
            "SciPy version: 1.14.1\n"
          ]
        }
      ]
    },
    {
      "cell_type": "code",
      "source": [
        "quan_questions = [\"The content on the website conveys a healthy and active lifestyle\",\n",
        "                  \"The content on the website inspires me to pursue a healthier lifestyle\",\n",
        "                  \"The content on the website showcases inclusivity for different age groups\",\n",
        "                  \"The content on the website showcases inclusivity for different cultural backgrounds\",\n",
        "                  \"The content on the website showcases inclusivity for different body types\",\n",
        "                  \"The content on the website portrays people that can be perceived as relatable\",\n",
        "                  \"Based on the content of the website, I get the feeling that the gym has a sense of community among gym-goers\",\n",
        "                  \"The content on the website conveys a feeling of a supportive atmosphere\",\n",
        "                  \"The content on the website promotes opportunities for connection with others in the gym\"]\n",
        "\n",
        "for i in quan_questions:\n",
        "  u_stat, p_val = mannwhitneyu(df_a[i].astype(float), df_b[i].astype(float), alternative='two-sided')\n",
        "  print(i)\n",
        "  print(f\"U Statistic: {u_stat}\")\n",
        "  print(f\"P-value: {p_val}\")\n",
        "  if p_val < 0.05:\n",
        "    print(\"significant\")"
      ],
      "metadata": {
        "colab": {
          "base_uri": "https://localhost:8080/"
        },
        "id": "jZ30WWuak1Fn",
        "outputId": "33eedaf4-b83e-4151-af27-9221cc090b3c"
      },
      "execution_count": null,
      "outputs": [
        {
          "output_type": "stream",
          "name": "stdout",
          "text": [
            "The content on the website conveys a healthy and active lifestyle\n",
            "U Statistic: 90.5\n",
            "P-value: 0.32850306248043437\n",
            "The content on the website inspires me to pursue a healthier lifestyle\n",
            "U Statistic: 96.0\n",
            "P-value: 0.4744647542430478\n",
            "The content on the website showcases inclusivity for different age groups\n",
            "U Statistic: 111.5\n",
            "P-value: 0.9827278050645993\n",
            "The content on the website showcases inclusivity for different cultural backgrounds\n",
            "U Statistic: 62.0\n",
            "P-value: 0.031912810397529495\n",
            "significant\n",
            "The content on the website showcases inclusivity for different body types\n",
            "U Statistic: 125.0\n",
            "P-value: 0.6072497543081238\n",
            "The content on the website portrays people that can be perceived as relatable\n",
            "U Statistic: 125.0\n",
            "P-value: 0.5932359698050761\n",
            "Based on the content of the website, I get the feeling that the gym has a sense of community among gym-goers\n",
            "U Statistic: 148.5\n",
            "P-value: 0.12180239324201228\n",
            "The content on the website conveys a feeling of a supportive atmosphere\n",
            "U Statistic: 143.0\n",
            "P-value: 0.15908460197950658\n",
            "The content on the website promotes opportunities for connection with others in the gym\n",
            "U Statistic: 159.0\n",
            "P-value: 0.03906445723817892\n",
            "significant\n"
          ]
        }
      ]
    },
    {
      "cell_type": "markdown",
      "source": [
        "#### One-tailed playground"
      ],
      "metadata": {
        "id": "ZM6BGHnqlmj6"
      }
    },
    {
      "cell_type": "code",
      "source": [
        "for i in quan_questions:\n",
        "  u_stat, p_val = mannwhitneyu(df_a[i].astype(float), df_b[i].astype(float), alternative='less')\n",
        "  print(i)\n",
        "  print(f\"U Statistic: {u_stat}\")\n",
        "  print(f\"P-value: {p_val}\")\n",
        "  if p_val < 0.05:\n",
        "    print(\"significant\")"
      ],
      "metadata": {
        "colab": {
          "base_uri": "https://localhost:8080/"
        },
        "id": "gy6L-74wk4fR",
        "outputId": "d3d93b1c-7a3d-42fc-9a5f-55dd44e7f370"
      },
      "execution_count": null,
      "outputs": [
        {
          "output_type": "stream",
          "name": "stdout",
          "text": [
            "The content on the website conveys a healthy and active lifestyle\n",
            "U Statistic: 90.5\n",
            "P-value: 0.16425153124021719\n",
            "The content on the website inspires me to pursue a healthier lifestyle\n",
            "U Statistic: 96.0\n",
            "P-value: 0.2372323771215239\n",
            "The content on the website showcases inclusivity for different age groups\n",
            "U Statistic: 111.5\n",
            "P-value: 0.49136390253229967\n",
            "The content on the website showcases inclusivity for different cultural backgrounds\n",
            "U Statistic: 62.0\n",
            "P-value: 0.015956405198764748\n",
            "significant\n",
            "The content on the website showcases inclusivity for different body types\n",
            "U Statistic: 125.0\n",
            "P-value: 0.7111805303765497\n",
            "The content on the website portrays people that can be perceived as relatable\n",
            "U Statistic: 125.0\n",
            "P-value: 0.71859248352458\n",
            "Based on the content of the website, I get the feeling that the gym has a sense of community among gym-goers\n",
            "U Statistic: 148.5\n",
            "P-value: 0.9441768660919039\n",
            "The content on the website conveys a feeling of a supportive atmosphere\n",
            "U Statistic: 143.0\n",
            "P-value: 0.9271785890167046\n",
            "The content on the website promotes opportunities for connection with others in the gym\n",
            "U Statistic: 159.0\n",
            "P-value: 0.9825003340875252\n"
          ]
        }
      ]
    },
    {
      "cell_type": "code",
      "source": [
        "for i in quan_questions:\n",
        "  u_stat, p_val = mannwhitneyu(df_a[i].astype(float), df_b[i].astype(float), alternative='greater')\n",
        "  print(i)\n",
        "  print(f\"U Statistic: {u_stat}\")\n",
        "  print(f\"P-value: {p_val}\")\n",
        "  if p_val < 0.05:\n",
        "    print(\"significant\")"
      ],
      "metadata": {
        "colab": {
          "base_uri": "https://localhost:8080/"
        },
        "id": "IoSJIEzSlcpa",
        "outputId": "4c980ddd-091a-48ed-fbeb-0f7cc29ad65d"
      },
      "execution_count": null,
      "outputs": [
        {
          "output_type": "stream",
          "name": "stdout",
          "text": [
            "The content on the website conveys a healthy and active lifestyle\n",
            "U Statistic: 90.5\n",
            "P-value: 0.8467471375143498\n",
            "The content on the website inspires me to pursue a healthier lifestyle\n",
            "U Statistic: 96.0\n",
            "P-value: 0.7763534670177927\n",
            "The content on the website showcases inclusivity for different age groups\n",
            "U Statistic: 111.5\n",
            "P-value: 0.5258921120139844\n",
            "The content on the website showcases inclusivity for different cultural backgrounds\n",
            "U Statistic: 62.0\n",
            "P-value: 0.985680162396708\n",
            "The content on the website showcases inclusivity for different body types\n",
            "U Statistic: 125.0\n",
            "P-value: 0.3036248771540619\n",
            "The content on the website portrays people that can be perceived as relatable\n",
            "U Statistic: 125.0\n",
            "P-value: 0.29661798490253805\n",
            "Based on the content of the website, I get the feeling that the gym has a sense of community among gym-goers\n",
            "U Statistic: 148.5\n",
            "P-value: 0.06090119662100614\n",
            "The content on the website conveys a feeling of a supportive atmosphere\n",
            "U Statistic: 143.0\n",
            "P-value: 0.07954230098975329\n",
            "The content on the website promotes opportunities for connection with others in the gym\n",
            "U Statistic: 159.0\n",
            "P-value: 0.01953222861908946\n",
            "significant\n"
          ]
        }
      ]
    },
    {
      "cell_type": "markdown",
      "source": [
        "## 2.3 All boxplots generateor"
      ],
      "metadata": {
        "id": "9ci728ZMzdh6"
      }
    },
    {
      "cell_type": "markdown",
      "source": [
        "## Playground"
      ],
      "metadata": {
        "id": "93v8i1CFrZPW"
      }
    },
    {
      "cell_type": "markdown",
      "source": [
        "### Boxplots for Q1: The content on the website conveys a healthy and active lifestyle italicized text"
      ],
      "metadata": {
        "id": "6VQvxhm2q8e8"
      }
    },
    {
      "cell_type": "code",
      "source": [
        "q1_a = pd.Series(df_a['The content on the website conveys a healthy and active lifestyle'])\n",
        "q1_a.rename(\"A\", inplace=True)\n",
        "\n",
        "q1_b = pd.Series(df_b['The content on the website conveys a healthy and active lifestyle'])\n",
        "q1_b.rename(\"B\", inplace=True)\n",
        "\n",
        "df_q1 = pd.concat([q1_a, q1_b], axis=1)\n",
        "df_q1 = df_q1.astype(float)\n",
        "df_q1"
      ],
      "metadata": {
        "colab": {
          "base_uri": "https://localhost:8080/",
          "height": 519
        },
        "outputId": "09598e63-f289-4cb2-caef-d325e1b13e84",
        "id": "KZz1Go57q8e9"
      },
      "execution_count": null,
      "outputs": [
        {
          "output_type": "execute_result",
          "data": {
            "text/plain": [
              "      A    B\n",
              "0   3.0  5.0\n",
              "1   5.0  4.0\n",
              "2   4.0  5.0\n",
              "3   5.0  4.0\n",
              "4   3.0  5.0\n",
              "5   5.0  4.0\n",
              "6   3.0  5.0\n",
              "7   4.0  4.0\n",
              "8   4.0  4.0\n",
              "9   4.0  4.0\n",
              "10  4.0  5.0\n",
              "11  4.0  4.0\n",
              "12  4.0  5.0\n",
              "13  5.0  NaN\n",
              "14  5.0  NaN"
            ],
            "text/html": [
              "\n",
              "  <div id=\"df-0b233545-ade5-4106-9428-28cedb67e874\" class=\"colab-df-container\">\n",
              "    <div>\n",
              "<style scoped>\n",
              "    .dataframe tbody tr th:only-of-type {\n",
              "        vertical-align: middle;\n",
              "    }\n",
              "\n",
              "    .dataframe tbody tr th {\n",
              "        vertical-align: top;\n",
              "    }\n",
              "\n",
              "    .dataframe thead th {\n",
              "        text-align: right;\n",
              "    }\n",
              "</style>\n",
              "<table border=\"1\" class=\"dataframe\">\n",
              "  <thead>\n",
              "    <tr style=\"text-align: right;\">\n",
              "      <th></th>\n",
              "      <th>A</th>\n",
              "      <th>B</th>\n",
              "    </tr>\n",
              "  </thead>\n",
              "  <tbody>\n",
              "    <tr>\n",
              "      <th>0</th>\n",
              "      <td>3.0</td>\n",
              "      <td>5.0</td>\n",
              "    </tr>\n",
              "    <tr>\n",
              "      <th>1</th>\n",
              "      <td>5.0</td>\n",
              "      <td>4.0</td>\n",
              "    </tr>\n",
              "    <tr>\n",
              "      <th>2</th>\n",
              "      <td>4.0</td>\n",
              "      <td>5.0</td>\n",
              "    </tr>\n",
              "    <tr>\n",
              "      <th>3</th>\n",
              "      <td>5.0</td>\n",
              "      <td>4.0</td>\n",
              "    </tr>\n",
              "    <tr>\n",
              "      <th>4</th>\n",
              "      <td>3.0</td>\n",
              "      <td>5.0</td>\n",
              "    </tr>\n",
              "    <tr>\n",
              "      <th>5</th>\n",
              "      <td>5.0</td>\n",
              "      <td>4.0</td>\n",
              "    </tr>\n",
              "    <tr>\n",
              "      <th>6</th>\n",
              "      <td>3.0</td>\n",
              "      <td>5.0</td>\n",
              "    </tr>\n",
              "    <tr>\n",
              "      <th>7</th>\n",
              "      <td>4.0</td>\n",
              "      <td>4.0</td>\n",
              "    </tr>\n",
              "    <tr>\n",
              "      <th>8</th>\n",
              "      <td>4.0</td>\n",
              "      <td>4.0</td>\n",
              "    </tr>\n",
              "    <tr>\n",
              "      <th>9</th>\n",
              "      <td>4.0</td>\n",
              "      <td>4.0</td>\n",
              "    </tr>\n",
              "    <tr>\n",
              "      <th>10</th>\n",
              "      <td>4.0</td>\n",
              "      <td>5.0</td>\n",
              "    </tr>\n",
              "    <tr>\n",
              "      <th>11</th>\n",
              "      <td>4.0</td>\n",
              "      <td>4.0</td>\n",
              "    </tr>\n",
              "    <tr>\n",
              "      <th>12</th>\n",
              "      <td>4.0</td>\n",
              "      <td>5.0</td>\n",
              "    </tr>\n",
              "    <tr>\n",
              "      <th>13</th>\n",
              "      <td>5.0</td>\n",
              "      <td>NaN</td>\n",
              "    </tr>\n",
              "    <tr>\n",
              "      <th>14</th>\n",
              "      <td>5.0</td>\n",
              "      <td>NaN</td>\n",
              "    </tr>\n",
              "  </tbody>\n",
              "</table>\n",
              "</div>\n",
              "    <div class=\"colab-df-buttons\">\n",
              "\n",
              "  <div class=\"colab-df-container\">\n",
              "    <button class=\"colab-df-convert\" onclick=\"convertToInteractive('df-0b233545-ade5-4106-9428-28cedb67e874')\"\n",
              "            title=\"Convert this dataframe to an interactive table.\"\n",
              "            style=\"display:none;\">\n",
              "\n",
              "  <svg xmlns=\"http://www.w3.org/2000/svg\" height=\"24px\" viewBox=\"0 -960 960 960\">\n",
              "    <path d=\"M120-120v-720h720v720H120Zm60-500h600v-160H180v160Zm220 220h160v-160H400v160Zm0 220h160v-160H400v160ZM180-400h160v-160H180v160Zm440 0h160v-160H620v160ZM180-180h160v-160H180v160Zm440 0h160v-160H620v160Z\"/>\n",
              "  </svg>\n",
              "    </button>\n",
              "\n",
              "  <style>\n",
              "    .colab-df-container {\n",
              "      display:flex;\n",
              "      gap: 12px;\n",
              "    }\n",
              "\n",
              "    .colab-df-convert {\n",
              "      background-color: #E8F0FE;\n",
              "      border: none;\n",
              "      border-radius: 50%;\n",
              "      cursor: pointer;\n",
              "      display: none;\n",
              "      fill: #1967D2;\n",
              "      height: 32px;\n",
              "      padding: 0 0 0 0;\n",
              "      width: 32px;\n",
              "    }\n",
              "\n",
              "    .colab-df-convert:hover {\n",
              "      background-color: #E2EBFA;\n",
              "      box-shadow: 0px 1px 2px rgba(60, 64, 67, 0.3), 0px 1px 3px 1px rgba(60, 64, 67, 0.15);\n",
              "      fill: #174EA6;\n",
              "    }\n",
              "\n",
              "    .colab-df-buttons div {\n",
              "      margin-bottom: 4px;\n",
              "    }\n",
              "\n",
              "    [theme=dark] .colab-df-convert {\n",
              "      background-color: #3B4455;\n",
              "      fill: #D2E3FC;\n",
              "    }\n",
              "\n",
              "    [theme=dark] .colab-df-convert:hover {\n",
              "      background-color: #434B5C;\n",
              "      box-shadow: 0px 1px 3px 1px rgba(0, 0, 0, 0.15);\n",
              "      filter: drop-shadow(0px 1px 2px rgba(0, 0, 0, 0.3));\n",
              "      fill: #FFFFFF;\n",
              "    }\n",
              "  </style>\n",
              "\n",
              "    <script>\n",
              "      const buttonEl =\n",
              "        document.querySelector('#df-0b233545-ade5-4106-9428-28cedb67e874 button.colab-df-convert');\n",
              "      buttonEl.style.display =\n",
              "        google.colab.kernel.accessAllowed ? 'block' : 'none';\n",
              "\n",
              "      async function convertToInteractive(key) {\n",
              "        const element = document.querySelector('#df-0b233545-ade5-4106-9428-28cedb67e874');\n",
              "        const dataTable =\n",
              "          await google.colab.kernel.invokeFunction('convertToInteractive',\n",
              "                                                    [key], {});\n",
              "        if (!dataTable) return;\n",
              "\n",
              "        const docLinkHtml = 'Like what you see? Visit the ' +\n",
              "          '<a target=\"_blank\" href=https://colab.research.google.com/notebooks/data_table.ipynb>data table notebook</a>'\n",
              "          + ' to learn more about interactive tables.';\n",
              "        element.innerHTML = '';\n",
              "        dataTable['output_type'] = 'display_data';\n",
              "        await google.colab.output.renderOutput(dataTable, element);\n",
              "        const docLink = document.createElement('div');\n",
              "        docLink.innerHTML = docLinkHtml;\n",
              "        element.appendChild(docLink);\n",
              "      }\n",
              "    </script>\n",
              "  </div>\n",
              "\n",
              "\n",
              "<div id=\"df-7b98c284-9b8e-41d3-afa3-2dae226abe33\">\n",
              "  <button class=\"colab-df-quickchart\" onclick=\"quickchart('df-7b98c284-9b8e-41d3-afa3-2dae226abe33')\"\n",
              "            title=\"Suggest charts\"\n",
              "            style=\"display:none;\">\n",
              "\n",
              "<svg xmlns=\"http://www.w3.org/2000/svg\" height=\"24px\"viewBox=\"0 0 24 24\"\n",
              "     width=\"24px\">\n",
              "    <g>\n",
              "        <path d=\"M19 3H5c-1.1 0-2 .9-2 2v14c0 1.1.9 2 2 2h14c1.1 0 2-.9 2-2V5c0-1.1-.9-2-2-2zM9 17H7v-7h2v7zm4 0h-2V7h2v10zm4 0h-2v-4h2v4z\"/>\n",
              "    </g>\n",
              "</svg>\n",
              "  </button>\n",
              "\n",
              "<style>\n",
              "  .colab-df-quickchart {\n",
              "      --bg-color: #E8F0FE;\n",
              "      --fill-color: #1967D2;\n",
              "      --hover-bg-color: #E2EBFA;\n",
              "      --hover-fill-color: #174EA6;\n",
              "      --disabled-fill-color: #AAA;\n",
              "      --disabled-bg-color: #DDD;\n",
              "  }\n",
              "\n",
              "  [theme=dark] .colab-df-quickchart {\n",
              "      --bg-color: #3B4455;\n",
              "      --fill-color: #D2E3FC;\n",
              "      --hover-bg-color: #434B5C;\n",
              "      --hover-fill-color: #FFFFFF;\n",
              "      --disabled-bg-color: #3B4455;\n",
              "      --disabled-fill-color: #666;\n",
              "  }\n",
              "\n",
              "  .colab-df-quickchart {\n",
              "    background-color: var(--bg-color);\n",
              "    border: none;\n",
              "    border-radius: 50%;\n",
              "    cursor: pointer;\n",
              "    display: none;\n",
              "    fill: var(--fill-color);\n",
              "    height: 32px;\n",
              "    padding: 0;\n",
              "    width: 32px;\n",
              "  }\n",
              "\n",
              "  .colab-df-quickchart:hover {\n",
              "    background-color: var(--hover-bg-color);\n",
              "    box-shadow: 0 1px 2px rgba(60, 64, 67, 0.3), 0 1px 3px 1px rgba(60, 64, 67, 0.15);\n",
              "    fill: var(--button-hover-fill-color);\n",
              "  }\n",
              "\n",
              "  .colab-df-quickchart-complete:disabled,\n",
              "  .colab-df-quickchart-complete:disabled:hover {\n",
              "    background-color: var(--disabled-bg-color);\n",
              "    fill: var(--disabled-fill-color);\n",
              "    box-shadow: none;\n",
              "  }\n",
              "\n",
              "  .colab-df-spinner {\n",
              "    border: 2px solid var(--fill-color);\n",
              "    border-color: transparent;\n",
              "    border-bottom-color: var(--fill-color);\n",
              "    animation:\n",
              "      spin 1s steps(1) infinite;\n",
              "  }\n",
              "\n",
              "  @keyframes spin {\n",
              "    0% {\n",
              "      border-color: transparent;\n",
              "      border-bottom-color: var(--fill-color);\n",
              "      border-left-color: var(--fill-color);\n",
              "    }\n",
              "    20% {\n",
              "      border-color: transparent;\n",
              "      border-left-color: var(--fill-color);\n",
              "      border-top-color: var(--fill-color);\n",
              "    }\n",
              "    30% {\n",
              "      border-color: transparent;\n",
              "      border-left-color: var(--fill-color);\n",
              "      border-top-color: var(--fill-color);\n",
              "      border-right-color: var(--fill-color);\n",
              "    }\n",
              "    40% {\n",
              "      border-color: transparent;\n",
              "      border-right-color: var(--fill-color);\n",
              "      border-top-color: var(--fill-color);\n",
              "    }\n",
              "    60% {\n",
              "      border-color: transparent;\n",
              "      border-right-color: var(--fill-color);\n",
              "    }\n",
              "    80% {\n",
              "      border-color: transparent;\n",
              "      border-right-color: var(--fill-color);\n",
              "      border-bottom-color: var(--fill-color);\n",
              "    }\n",
              "    90% {\n",
              "      border-color: transparent;\n",
              "      border-bottom-color: var(--fill-color);\n",
              "    }\n",
              "  }\n",
              "</style>\n",
              "\n",
              "  <script>\n",
              "    async function quickchart(key) {\n",
              "      const quickchartButtonEl =\n",
              "        document.querySelector('#' + key + ' button');\n",
              "      quickchartButtonEl.disabled = true;  // To prevent multiple clicks.\n",
              "      quickchartButtonEl.classList.add('colab-df-spinner');\n",
              "      try {\n",
              "        const charts = await google.colab.kernel.invokeFunction(\n",
              "            'suggestCharts', [key], {});\n",
              "      } catch (error) {\n",
              "        console.error('Error during call to suggestCharts:', error);\n",
              "      }\n",
              "      quickchartButtonEl.classList.remove('colab-df-spinner');\n",
              "      quickchartButtonEl.classList.add('colab-df-quickchart-complete');\n",
              "    }\n",
              "    (() => {\n",
              "      let quickchartButtonEl =\n",
              "        document.querySelector('#df-7b98c284-9b8e-41d3-afa3-2dae226abe33 button');\n",
              "      quickchartButtonEl.style.display =\n",
              "        google.colab.kernel.accessAllowed ? 'block' : 'none';\n",
              "    })();\n",
              "  </script>\n",
              "</div>\n",
              "\n",
              "  <div id=\"id_bb50fa7a-c6fb-4559-abb8-9791308e348a\">\n",
              "    <style>\n",
              "      .colab-df-generate {\n",
              "        background-color: #E8F0FE;\n",
              "        border: none;\n",
              "        border-radius: 50%;\n",
              "        cursor: pointer;\n",
              "        display: none;\n",
              "        fill: #1967D2;\n",
              "        height: 32px;\n",
              "        padding: 0 0 0 0;\n",
              "        width: 32px;\n",
              "      }\n",
              "\n",
              "      .colab-df-generate:hover {\n",
              "        background-color: #E2EBFA;\n",
              "        box-shadow: 0px 1px 2px rgba(60, 64, 67, 0.3), 0px 1px 3px 1px rgba(60, 64, 67, 0.15);\n",
              "        fill: #174EA6;\n",
              "      }\n",
              "\n",
              "      [theme=dark] .colab-df-generate {\n",
              "        background-color: #3B4455;\n",
              "        fill: #D2E3FC;\n",
              "      }\n",
              "\n",
              "      [theme=dark] .colab-df-generate:hover {\n",
              "        background-color: #434B5C;\n",
              "        box-shadow: 0px 1px 3px 1px rgba(0, 0, 0, 0.15);\n",
              "        filter: drop-shadow(0px 1px 2px rgba(0, 0, 0, 0.3));\n",
              "        fill: #FFFFFF;\n",
              "      }\n",
              "    </style>\n",
              "    <button class=\"colab-df-generate\" onclick=\"generateWithVariable('df_q1')\"\n",
              "            title=\"Generate code using this dataframe.\"\n",
              "            style=\"display:none;\">\n",
              "\n",
              "  <svg xmlns=\"http://www.w3.org/2000/svg\" height=\"24px\"viewBox=\"0 0 24 24\"\n",
              "       width=\"24px\">\n",
              "    <path d=\"M7,19H8.4L18.45,9,17,7.55,7,17.6ZM5,21V16.75L18.45,3.32a2,2,0,0,1,2.83,0l1.4,1.43a1.91,1.91,0,0,1,.58,1.4,1.91,1.91,0,0,1-.58,1.4L9.25,21ZM18.45,9,17,7.55Zm-12,3A5.31,5.31,0,0,0,4.9,8.1,5.31,5.31,0,0,0,1,6.5,5.31,5.31,0,0,0,4.9,4.9,5.31,5.31,0,0,0,6.5,1,5.31,5.31,0,0,0,8.1,4.9,5.31,5.31,0,0,0,12,6.5,5.46,5.46,0,0,0,6.5,12Z\"/>\n",
              "  </svg>\n",
              "    </button>\n",
              "    <script>\n",
              "      (() => {\n",
              "      const buttonEl =\n",
              "        document.querySelector('#id_bb50fa7a-c6fb-4559-abb8-9791308e348a button.colab-df-generate');\n",
              "      buttonEl.style.display =\n",
              "        google.colab.kernel.accessAllowed ? 'block' : 'none';\n",
              "\n",
              "      buttonEl.onclick = () => {\n",
              "        google.colab.notebook.generateWithVariable('df_q1');\n",
              "      }\n",
              "      })();\n",
              "    </script>\n",
              "  </div>\n",
              "\n",
              "    </div>\n",
              "  </div>\n"
            ],
            "application/vnd.google.colaboratory.intrinsic+json": {
              "type": "dataframe",
              "variable_name": "df_q1",
              "summary": "{\n  \"name\": \"df_q1\",\n  \"rows\": 15,\n  \"fields\": [\n    {\n      \"column\": \"A\",\n      \"properties\": {\n        \"dtype\": \"number\",\n        \"std\": 0.7432233529572065,\n        \"min\": 3.0,\n        \"max\": 5.0,\n        \"num_unique_values\": 3,\n        \"samples\": [\n          3.0,\n          5.0,\n          4.0\n        ],\n        \"semantic_type\": \"\",\n        \"description\": \"\"\n      }\n    },\n    {\n      \"column\": \"B\",\n      \"properties\": {\n        \"dtype\": \"number\",\n        \"std\": 0.5188745216627708,\n        \"min\": 4.0,\n        \"max\": 5.0,\n        \"num_unique_values\": 2,\n        \"samples\": [\n          4.0,\n          5.0\n        ],\n        \"semantic_type\": \"\",\n        \"description\": \"\"\n      }\n    }\n  ]\n}"
            }
          },
          "metadata": {},
          "execution_count": 7
        }
      ]
    },
    {
      "cell_type": "code",
      "source": [
        "ax = df_q1.boxplot()\n",
        "ax.get_figure().suptitle(t='Q1', fontsize=16);"
      ],
      "metadata": {
        "colab": {
          "base_uri": "https://localhost:8080/",
          "height": 478
        },
        "outputId": "ff63e4fe-f244-46ec-b437-6af0cd504ca7",
        "id": "3qXgM3Mcq8e9"
      },
      "execution_count": null,
      "outputs": [
        {
          "output_type": "display_data",
          "data": {
            "text/plain": [
              "<Figure size 640x480 with 1 Axes>"
            ],
            "image/png": "[encoded data removed]"
          },
          "metadata": {}
        }
      ]
    },
    {
      "cell_type": "markdown",
      "source": [
        "### Age and nationality"
      ],
      "metadata": {
        "id": "1ajtZnt_JdkA"
      }
    },
    {
      "cell_type": "code",
      "source": [
        "age_a = df_a['Age'].astype(int)\n",
        "\n",
        "age_a.info()"
      ],
      "metadata": {
        "colab": {
          "base_uri": "https://localhost:8080/"
        },
        "id": "cgigQHAWJlzX",
        "outputId": "41fcc790-9317-4512-8639-17699932edcb"
      },
      "execution_count": null,
      "outputs": [
        {
          "output_type": "stream",
          "name": "stdout",
          "text": [
            "<class 'pandas.core.series.Series'>\n",
            "RangeIndex: 15 entries, 0 to 14\n",
            "Series name: Age\n",
            "Non-Null Count  Dtype\n",
            "--------------  -----\n",
            "15 non-null     int64\n",
            "dtypes: int64(1)\n",
            "memory usage: 248.0 bytes\n"
          ]
        }
      ]
    },
    {
      "cell_type": "code",
      "source": [
        "age_b = df_b['Age'].astype(int)\n",
        "\n",
        "age_b.info()"
      ],
      "metadata": {
        "colab": {
          "base_uri": "https://localhost:8080/"
        },
        "id": "2mOxP0TpJ8Fj",
        "outputId": "af3af212-c67b-4e0b-9bf8-1b3c10cd3d14"
      },
      "execution_count": null,
      "outputs": [
        {
          "output_type": "stream",
          "name": "stdout",
          "text": [
            "<class 'pandas.core.series.Series'>\n",
            "RangeIndex: 13 entries, 0 to 12\n",
            "Series name: Age\n",
            "Non-Null Count  Dtype\n",
            "--------------  -----\n",
            "13 non-null     int64\n",
            "dtypes: int64(1)\n",
            "memory usage: 232.0 bytes\n"
          ]
        }
      ]
    }
  ],
  "metadata": {
    "colab": {
      "provenance": [],
      "collapsed_sections": [
        "mBWrr32Rkx37",
        "6VQvxhm2q8e8",
        "1ajtZnt_JdkA"
      ],
      "toc_visible": true,
      "include_colab_link": true
    },
    "kernelspec": {
      "display_name": "Python 3",
      "name": "python3"
    },
    "language_info": {
      "name": "python"
    }
  },
  "nbformat": 4,
  "nbformat_minor": 0
}